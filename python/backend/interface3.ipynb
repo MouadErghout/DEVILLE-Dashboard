{
 "cells": [
  {
   "cell_type": "code",
   "execution_count": 14,
   "metadata": {},
   "outputs": [],
   "source": [
    "import pandas as pd\n",
    "import numpy\n",
    "import select_file\n",
    "import clean_data\n",
    "import result\n",
    "import diagramme_camembert\n",
    "import matplotlib.pyplot as plt"
   ]
  },
  {
   "cell_type": "code",
   "execution_count": 17,
   "metadata": {},
   "outputs": [
    {
     "name": "stderr",
     "output_type": "stream",
     "text": [
      "/Library/Frameworks/Python.framework/Versions/3.10/lib/python3.10/site-packages/openpyxl/worksheet/_reader.py:329: UserWarning: Conditional Formatting extension is not supported and will be removed\n",
      "  warn(msg)\n"
     ]
    },
    {
     "ename": "TypeError",
     "evalue": "object of type 'bool' has no len()",
     "output_type": "error",
     "traceback": [
      "\u001b[0;31m---------------------------------------------------------------------------\u001b[0m",
      "\u001b[0;31mTypeError\u001b[0m                                 Traceback (most recent call last)",
      "Cell \u001b[0;32mIn[17], line 9\u001b[0m\n\u001b[1;32m      3\u001b[0m ds \u001b[38;5;241m=\u001b[39m result\u001b[38;5;241m.\u001b[39mfilter_conformity(dc)\n\u001b[1;32m      4\u001b[0m \u001b[38;5;66;03m#print(f\"Nombre de côtes conformes : {ds[2]}\")\u001b[39;00m\n\u001b[1;32m      5\u001b[0m \u001b[38;5;66;03m#print(f\"Nombre de côtes non conformes : {ds[3]}\")\u001b[39;00m\n\u001b[1;32m      6\u001b[0m \u001b[38;5;66;03m#print(f\"dataframe conforme : {ds[0]}\")\u001b[39;00m\n\u001b[1;32m      7\u001b[0m \u001b[38;5;66;03m#print(f\"dataframe non conformes : {ds[1]}\")\u001b[39;00m\n\u001b[0;32m----> 9\u001b[0m \u001b[43mdiagramme_camembert\u001b[49m\u001b[38;5;241;43m.\u001b[39;49m\u001b[43mafficher_diagramme\u001b[49m\u001b[43m(\u001b[49m\u001b[43m[\u001b[49m\u001b[43mds\u001b[49m\u001b[43m[\u001b[49m\u001b[38;5;241;43m2\u001b[39;49m\u001b[43m]\u001b[49m\u001b[43m,\u001b[49m\u001b[43mds\u001b[49m\u001b[43m[\u001b[49m\u001b[38;5;241;43m3\u001b[39;49m\u001b[43m]\u001b[49m\u001b[43m]\u001b[49m\u001b[43m)\u001b[49m\n",
      "File \u001b[0;32m~/Library/Mobile Documents/com~apple~CloudDocs/QIF 4A/semestre 8/projetEntreprise/python/DEVILLE-Dashboard/python/backend/diagramme_camembert.py:4\u001b[0m, in \u001b[0;36mafficher_diagramme\u001b[0;34m(liste_valeurs)\u001b[0m\n\u001b[1;32m      3\u001b[0m \u001b[38;5;28;01mdef\u001b[39;00m \u001b[38;5;21mafficher_diagramme\u001b[39m(liste_valeurs):\n\u001b[0;32m----> 4\u001b[0m     \u001b[38;5;28;01mif\u001b[39;00m \u001b[38;5;28;43mlen\u001b[39;49m\u001b[43m(\u001b[49m\u001b[43mliste_valeurs\u001b[49m\u001b[43m \u001b[49m\u001b[38;5;241;43m==\u001b[39;49m\u001b[43m \u001b[49m\u001b[38;5;241;43m2\u001b[39;49m\u001b[43m)\u001b[49m: \u001b[38;5;66;03m# longueur liste = 2 signifie on est dans le cas interface 3 car ya que deux valeurs\u001b[39;00m\n\u001b[1;32m      5\u001b[0m         labels \u001b[38;5;241m=\u001b[39m [\u001b[38;5;124m'\u001b[39m\u001b[38;5;124mNombre de conforme\u001b[39m\u001b[38;5;124m'\u001b[39m, \u001b[38;5;124m'\u001b[39m\u001b[38;5;124mNombre de non conforme\u001b[39m\u001b[38;5;124m'\u001b[39m]\n\u001b[1;32m      6\u001b[0m     \u001b[38;5;28;01melse\u001b[39;00m: \u001b[38;5;66;03m# sinon on est dans l'interface 3\u001b[39;00m\n",
      "\u001b[0;31mTypeError\u001b[0m: object of type 'bool' has no len()"
     ]
    }
   ],
   "source": [
    "\n",
    "\n",
    "df = select_file.select_file(\"./fot10_copie.xlsx\") # appel methode select file\n",
    "dc = clean_data.clean_data(df)\n",
    "ds = result.filter_conformity(dc)\n",
    "#print(f\"Nombre de côtes conformes : {ds[2]}\")\n",
    "#print(f\"Nombre de côtes non conformes : {ds[3]}\")\n",
    "#print(f\"dataframe conforme : {ds[0]}\")\n",
    "#print(f\"dataframe non conformes : {ds[1]}\")\n",
    "\n",
    "diagramme_camembert.afficher_diagramme([ds[2],ds[3]])"
   ]
  }
 ],
 "metadata": {
  "kernelspec": {
   "display_name": "venv",
   "language": "python",
   "name": "python3"
  },
  "language_info": {
   "codemirror_mode": {
    "name": "ipython",
    "version": 3
   },
   "file_extension": ".py",
   "mimetype": "text/x-python",
   "name": "python",
   "nbconvert_exporter": "python",
   "pygments_lexer": "ipython3",
   "version": "3.10.0"
  }
 },
 "nbformat": 4,
 "nbformat_minor": 2
}
