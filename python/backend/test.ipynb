{
 "cells": [
  {
   "cell_type": "code",
   "execution_count": 62,
   "metadata": {},
   "outputs": [],
   "source": [
    "import pandas as pd\n",
    "import numpy"
   ]
  },
  {
   "cell_type": "code",
   "execution_count": 136,
   "metadata": {},
   "outputs": [],
   "source": [
    "# definir SelectFiles qui retourne une lsite de dataframes + renommer les colonnes \n",
    "\n",
    "def select_files():\n",
    "    df = pd.read_excel(\"./fot10_copie.xlsx\",usecols=\"B,F,I,J,Q,s:w\").copy()[21:] # Ouvrir le fichier et ne regarder que les colonnes interessantes + a partir de ligne 21\n",
    "    pd.set_option('display.max_rows', None)\n",
    "\n",
    "    df.rename(columns={\n",
    "        'Unnamed: 1': 'N° Cote',  # Remplacez 'NouveauNom1' par le nom que vous souhaitez\n",
    "        'Unnamed: 5': 'Valeur nominale',  # Remplacez 'NouveauNom2' par le nom que vous souhaitez\n",
    "        'Unnamed: 8': 'Limite Inf',  # etc.\n",
    "        'Unnamed: 9': 'Limite Sup',\n",
    "        'Unnamed: 16': 'Empreinte',\n",
    "        'Unnamed: 18': 'Mesure1',\n",
    "        'Unnamed: 19': 'Mesure2',\n",
    "        'Unnamed: 20': 'Mesure3',\n",
    "        'Unnamed: 21': 'Mesure4',\n",
    "        'Unnamed: 22': 'Mesure5'\n",
    "    }, inplace=True)\n",
    "    \n",
    "    return df\n"
   ]
  },
  {
   "cell_type": "code",
   "execution_count": 143,
   "metadata": {},
   "outputs": [
    {
     "name": "stdout",
     "output_type": "stream",
     "text": [
      "None\n"
     ]
    },
    {
     "name": "stderr",
     "output_type": "stream",
     "text": [
      "/Library/Frameworks/Python.framework/Versions/3.10/lib/python3.10/site-packages/openpyxl/worksheet/_reader.py:329: UserWarning: Conditional Formatting extension is not supported and will be removed\n",
      "  warn(msg)\n"
     ]
    }
   ],
   "source": [
    "def replace_all(df): # remplace toutes les aleurs autre que int ou float par 0\n",
    "        for column in df.columns:\n",
    "                df[column] = pd.to_numeric(df[column], errors='coerce') # Dans toutes les colones on converti chaque valeur en float, si erreur remplacer nan\n",
    "        df.fillna(0, inplace=True) # remplace nan par 0 partout\n",
    "        \n",
    "        return df\n",
    "\n",
    "def keep_pairs_lines(df):\n",
    "        indices = df.index.tolist()\n",
    "        indices_to_keep = list(indices)  # Utilisation d'un set pour éviter les doublons\n",
    "        \n",
    "        # Ajout de l'indice de la ligne suivante pour chaque ligne conforme\n",
    "        for index in indices:\n",
    "                next_index = index + 1\n",
    "                if next_index in df.index:  # Assurez-vous que l'indice suivant est dans le DataFrame original\n",
    "                        indices_to_keep.append(next_index)\n",
    "\n",
    "        # Création du nouveau DataFrame avec les lignes sélectionnées\n",
    "        \n",
    "        df = df.loc[indices_to_keep]\n",
    "        \n",
    "        # Tri du DataFrame selon l'ordre initial des indices\n",
    "        dc = df.sort_index()\n",
    "        return dc\n",
    "\n",
    "def clean_data(df):\n",
    "        \n",
    "        dfcotes = replace_all(df)\n",
    "        \n",
    "        dfcotes = df[df['N° Cote'] > 10] # ne conserve que les lignes ou la valeur de la colonne est supérieure à 10 pour éliminer tous les espaces \n",
    "        \n",
    "        dc = keep_pairs_lines(dfcotes)\n",
    "\n",
    "        dc.reset_index(drop=True, inplace=True) \n",
    "        \n",
    "\n",
    "        return dc\n",
    "\n",
    "df = select_files()\n",
    "\n",
    "dc = clean_data(df)\n",
    "\n"
   ]
  },
  {
   "cell_type": "code",
   "execution_count": 97,
   "metadata": {},
   "outputs": [
    {
     "name": "stdout",
     "output_type": "stream",
     "text": [
      "Nb de non conformes : 144.0\n",
      "Nb de  conformes : 163.0\n"
     ]
    }
   ],
   "source": [
    "\n",
    "def check_row(row, nominal, lim_inf, lim_sup):\n",
    "    return all([\n",
    "        (row[f'Mesure{i}'] == 0) or (row[f'Mesure{i}'] < (nominal + lim_sup) and row[f'Mesure{i}'] > (nominal + lim_inf)) \n",
    "        for i in range(1, 6)\n",
    "    ])\n",
    "\n",
    "# Création d'une liste pour les indices des lignes à conserver\n",
    "indices_to_keep = []\n",
    "indice_to_move = []\n",
    "# Parcours du DataFrame en sautant une ligne à chaque fois (pour traiter les paires)\n",
    "for index in range(0, len(dc), 2):\n",
    "    if index + 1 in dc.index:  # Vérifier que la paire existe\n",
    "        row1 = dc.loc[index]\n",
    "        row2 = dc.loc[index + 1]\n",
    "        nominal, lim_inf, lim_sup = row1['Valeur nominale'], row1['Limite Inf'], row1['Limite Sup']\n",
    "\n",
    "        # Conserver la paire si les deux lignes répondent aux critères\n",
    "        if check_row(row1, nominal, lim_inf, lim_sup) and check_row(row2, nominal, lim_inf, lim_sup):\n",
    "            indices_to_keep.extend([index, index + 1])\n",
    "        else:\n",
    "            indice_to_move.extend([index, index + 1])\n",
    "        \n",
    "\n",
    "# Filtrer le DataFrame pour ne garder que les lignes avec les indices sélectionnés\n",
    "ds = dc.loc[indices_to_keep] # conformes\n",
    "dm= dc.loc[indice_to_move] # non conformes\n",
    "# Affiche toutes les côtes conformes\n",
    "nonConformes = len(dm)/2\n",
    "conformes = len(ds)/2\n",
    "print(\"Nb de non conformes : \" + str(nonConformes))\n",
    "print(\"Nb de  conformes : \"+ str(conformes))"
   ]
  }
 ],
 "metadata": {
  "kernelspec": {
   "display_name": "venv",
   "language": "python",
   "name": "python3"
  },
  "language_info": {
   "codemirror_mode": {
    "name": "ipython",
    "version": 3
   },
   "file_extension": ".py",
   "mimetype": "text/x-python",
   "name": "python",
   "nbconvert_exporter": "python",
   "pygments_lexer": "ipython3",
   "version": "3.10.0"
  }
 },
 "nbformat": 4,
 "nbformat_minor": 2
}
