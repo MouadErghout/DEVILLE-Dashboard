{
 "cells": [
  {
   "cell_type": "code",
   "execution_count": 181,
   "metadata": {},
   "outputs": [],
   "source": [
    "import pandas as pd\n",
    "import numpy"
   ]
  },
  {
   "cell_type": "code",
   "execution_count": 182,
   "metadata": {},
   "outputs": [],
   "source": [
    "# definir SelectFiles qui retourne une lsite de dataframes + renommer les colonnes \n",
    "def select_file():\n",
    "        df = pd.read_excel(\"./fot10_copie.xlsx\",usecols=\"B,F,I,J,Q,s:w\", sheet_name=\"Dimensional report\").copy()[21:] # Ouvrir le fichier et ne regarder que les colonnes interessantes + a partir de ligne 21\n",
    "        pd.set_option('display.max_rows', None)\n",
    "\n",
    "        # Renommer les colonnes\n",
    "        df.rename(columns={\n",
    "            'Unnamed: 1': 'N° Cote',  # Remplacez 'NouveauNom1' par le nom que vous souhaitez\n",
    "            'Unnamed: 5': 'Valeur nominale',  # Remplacez 'NouveauNom2' par le nom que vous souhaitez\n",
    "            'Unnamed: 8': 'Limite Inf',  # etc.\n",
    "            'Unnamed: 9': 'Limite Sup',\n",
    "            'Unnamed: 16': 'Empreinte',\n",
    "            'Unnamed: 18': 'Mesure1',\n",
    "            'Unnamed: 19': 'Mesure2',\n",
    "            'Unnamed: 20': 'Mesure3',\n",
    "            'Unnamed: 21': 'Mesure4',\n",
    "            'Unnamed: 22': 'Mesure5'\n",
    "        }, inplace=True)\n",
    "        return df"
   ]
  },
  {
   "cell_type": "code",
   "execution_count": 183,
   "metadata": {},
   "outputs": [],
   "source": [
    "\n",
    "\n",
    "\n",
    "def replace_all(df):\n",
    "        for column in df.columns:\n",
    "                df[column] = pd.to_numeric(df[column], errors='coerce') # Dans toutes les colones on converti chaque valeur en float, si erreur remplacer nan\n",
    "\n",
    "        df.fillna(0, inplace=True) # remplace nan par 0 partout\n",
    "        return df\n",
    "\n",
    "\n",
    "def select_paired_lines(df):\n",
    "\n",
    "        dfcotes = df[df['N° Cote'] > 10] # ne conserve que les lignes ou la valeur de la colonne est supérieure à 10 pour éliminer tous les espaces \n",
    "        indices = dfcotes.index.tolist()\n",
    "        indices_to_keep = list(indices)  # Utilisation d'un set pour éviter les doublons\n",
    "\n",
    "                # Ajout de l'indice de la ligne suivante pour chaque ligne conforme\n",
    "        for index in indices:\n",
    "                next_index = index + 1\n",
    "                if next_index in df.index:  # Assurez-vous que l'indice suivant est dans le DataFrame original\n",
    "                                indices_to_keep.append(next_index)\n",
    "\n",
    "                # Création du nouveau DataFrame avec les lignes sélectionnées\n",
    "        dcotes = df.loc[indices_to_keep]\n",
    "\n",
    "                # Tri du DataFrame selon l'ordre initial des indices\n",
    "        dc = dcotes.sort_index()\n",
    "        dc.reset_index(drop=True, inplace=True) \n",
    "        return dc\n",
    "\n",
    "def clean_data(df):\n",
    "        df = replace_all(df)\n",
    "        dc = select_paired_lines(df)\n",
    "        return dc\n",
    "\n"
   ]
  },
  {
   "cell_type": "code",
   "execution_count": 184,
   "metadata": {},
   "outputs": [
    {
     "name": "stdout",
     "output_type": "stream",
     "text": [
      "144.0\n"
     ]
    },
    {
     "name": "stderr",
     "output_type": "stream",
     "text": [
      "/Library/Frameworks/Python.framework/Versions/3.10/lib/python3.10/site-packages/openpyxl/worksheet/_reader.py:329: UserWarning: Conditional Formatting extension is not supported and will be removed\n",
      "  warn(msg)\n"
     ]
    }
   ],
   "source": [
    "\n",
    "def check_row(row, nominal, lim_inf, lim_sup):\n",
    "    return all([\n",
    "        (row[f'Mesure{i}'] == 0) or (row[f'Mesure{i}'] < (nominal + lim_sup) and row[f'Mesure{i}'] > (nominal + lim_inf)) \n",
    "        for i in range(1, 6)\n",
    "    ])\n",
    "\n",
    "def filter_conformity(dc):\n",
    "# Création d'une liste pour les indices des lignes à conserver\n",
    "    indices_to_keep = []\n",
    "    indice_to_move = []\n",
    "    # Parcours du DataFrame en sautant une ligne à chaque fois (pour traiter les paires)\n",
    "    for index in range(0, len(dc), 2):\n",
    "        if index + 1 in dc.index:  # Vérifier que la paire existe\n",
    "            row1 = dc.loc[index]\n",
    "            row2 = dc.loc[index + 1]\n",
    "            nominal, lim_inf, lim_sup = row1['Valeur nominale'], row1['Limite Inf'], row1['Limite Sup']\n",
    "\n",
    "            # Conserver la paire si les deux lignes répondent aux critères\n",
    "            if check_row(row1, nominal, lim_inf, lim_sup) and check_row(row2, nominal, lim_inf, lim_sup):\n",
    "                indices_to_keep.extend([index, index + 1])\n",
    "            else:\n",
    "                indice_to_move.extend([index, index + 1])\n",
    "\n",
    "\n",
    "\n",
    "\n",
    "    dfConf = dc.loc[indices_to_keep] # conformes\n",
    "    dfNConf= dc.loc[indice_to_move] # non conformes\n",
    "        # Affiche toutes les côtes conformes\n",
    "    conformes = len(dfConf)/2\n",
    "    nonConformes = len(dfNConf)/2\n",
    "    return dfConf, dfNConf, nonConformes, conformes\n",
    "\n",
    "df = select_file()\n",
    "dc = clean_data(df)\n",
    "ds = filter_conformity(dc)\n",
    "print(ds[2])\n",
    "\n"
   ]
  }
 ],
 "metadata": {
  "kernelspec": {
   "display_name": "venv",
   "language": "python",
   "name": "python3"
  },
  "language_info": {
   "codemirror_mode": {
    "name": "ipython",
    "version": 3
   },
   "file_extension": ".py",
   "mimetype": "text/x-python",
   "name": "python",
   "nbconvert_exporter": "python",
   "pygments_lexer": "ipython3",
   "version": "3.10.0"
  }
 },
 "nbformat": 4,
 "nbformat_minor": 2
}
