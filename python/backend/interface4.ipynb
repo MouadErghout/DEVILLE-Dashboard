{
 "cells": [
  {
   "cell_type": "code",
   "execution_count": null,
   "metadata": {},
   "outputs": [],
   "source": [
    "import pandas as pd\n",
    "import numpy\n",
    "import select_file\n",
    "import clean_data\n",
    "import result"
   ]
  },
  {
   "cell_type": "code",
   "execution_count": null,
   "metadata": {},
   "outputs": [],
   "source": [
    "paths = [\"./fot10_copie.xlsx\",\"./fot11_copie.xlsx\"]\n",
    "\n",
    "# La on veut comparer le rapport 11 au rapport 10. On a 3 cas : \n",
    "# cas 1 : fot10 conformes fot11 non conformes\n",
    "# cas 2 : fot10 non conforme fot11 non conforme\n",
    "# cas 3 : fot10 non conforme fot11 conforme\n",
    "# Si on récupère liste des non conformes du 11. On a par exemple \n",
    "# fot11 = [19,101,104,108,112,200,391] On recupère la liste des non conformes du 10 On a par exemple\n",
    "# fot10 = [19,65,104,108,150,200,391,450]\n",
    "# pour chaque valeur de fot10 on regarde toute la liste de fot11. \n",
    "#           S'il est dedans : cas2 ici --> 19, 104, 200, 391\n",
    "#           Elseif n'est pas dedans : cas 3 ici --> 65, 150, 450\n",
    "#           le reste de fot11 : cas 1 ici --> 101, 112"
   ]
  }
 ],
 "metadata": {
  "language_info": {
   "name": "python"
  }
 },
 "nbformat": 4,
 "nbformat_minor": 2
}
