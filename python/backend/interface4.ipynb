{
 "cells": [
  {
   "cell_type": "code",
   "execution_count": 1,
   "metadata": {},
   "outputs": [],
   "source": [
    "import pandas as pd\n",
    "import numpy\n",
    "import select_file\n",
    "import clean_data\n",
    "import result"
   ]
  },
  {
   "cell_type": "code",
   "execution_count": 4,
   "metadata": {},
   "outputs": [
    {
     "name": "stderr",
     "output_type": "stream",
     "text": [
      "/Library/Frameworks/Python.framework/Versions/3.10/lib/python3.10/site-packages/openpyxl/worksheet/_reader.py:329: UserWarning: Conditional Formatting extension is not supported and will be removed\n",
      "  warn(msg)\n"
     ]
    },
    {
     "name": "stdout",
     "output_type": "stream",
     "text": [
      "1\n",
      "114\n",
      "11\n"
     ]
    },
    {
     "name": "stderr",
     "output_type": "stream",
     "text": [
      "/Library/Frameworks/Python.framework/Versions/3.10/lib/python3.10/site-packages/openpyxl/worksheet/_reader.py:329: UserWarning: Conditional Formatting extension is not supported and will be removed\n",
      "  warn(msg)\n"
     ]
    }
   ],
   "source": [
    "paths = [\"./fot10_copie.xlsx\",\"./fot11_copie.xlsx\"]\n",
    "\n",
    "# La on veut comparer le rapport 11 au rapport 10. On a 3 cas : \n",
    "# cas 1 : fot10 conformes fot11 non conformes\n",
    "# cas 2 : fot10 non conforme fot11 non conforme\n",
    "# cas 3 : fot10 non conforme fot11 conforme\n",
    "# Si on récupère liste des non conformes du 11. On a par exemple \n",
    "# fot11 = [19,101,104,108,112,200,391] On recupère la liste des non conformes du 10 On a par exemple\n",
    "# fot10 = [19,65,104,108,150,200,391,450]\n",
    "# pour chaque valeur de fot10 on regarde toute la liste de fot11. \n",
    "#           S'il est dedans : cas2 ici --> 19, 104, 200, 391\n",
    "#           Elseif n'est pas dedans : cas 3 ici --> 65, 150, 450\n",
    "#           le reste de fot11 : cas 1 ici --> 101, 112\n",
    "\n",
    "\n",
    "liste_dic = []\n",
    "for p in paths:\n",
    "    cotes_n = {}\n",
    "    df = select_file.select_file(p)\n",
    "    dc = clean_data.clean_data(df)\n",
    "    ds = result.filter_conformity(dc)\n",
    "    df_filtered = ds[1][ds[1]['N° Cote'] > 10]\n",
    "    for index, row in df_filtered.iterrows():\n",
    "        cotes_n[index] = row['N° Cote'] \n",
    "    liste_dic.append(cotes_n)\n",
    "\n",
    "nb_cas1 = 0\n",
    "nb_cas2 = 0\n",
    "nb_cas3 = 0\n",
    "for key, value in liste_dic[1].items():\n",
    "        if key in liste_dic[0] and liste_dic[0][key] == value: # cas 2, presente dans fot10 et fot11\n",
    "            #print(f\"La paire clé:valeur {key}:{value} est présente dans les deux dictionnaires.\")\n",
    "            nb_cas2 = nb_cas2 + 1\n",
    "        else: # cas 3, presente dans le fot10 mais pas fot11 donc devenu conforme\n",
    "            #print(f\"La paire clé:valeur {key}:{value} n'est pas présente dans le deuxième dictionnaire.\")\n",
    "            nb_cas3 = nb_cas3 + 1\n",
    "else:\n",
    "    #print(\"La liste ne contient pas deux dictionnaires.\")\n",
    "    nb_cas1 = nb_cas1 + 1\n",
    "\n",
    "print(nb_cas1)\n",
    "print(nb_cas2)\n",
    "print(nb_cas3)\n",
    "\n",
    "nb_cas1 = {}\n",
    "nb_cas2 = {}\n",
    "nb_cas3 = {}\n",
    "\n",
    "dict1 = liste_dic[0]\n",
    "dict2 = liste_dic[1]\n",
    "\n",
    "# Vérifier chaque clé dans dict1\n",
    "for key, value in dict1.items():\n",
    "    if key not in dict2:\n",
    "        nb_cas3[key] = value\n",
    "\n",
    "# Vérifier chaque clé dans dict2\n",
    "for key, value in dict2.items():\n",
    "    if key in dict1:\n",
    "        # Vérification pour le cas 1\n",
    "        if dict1[key] != value:\n",
    "            nb_cas1[key] = value\n",
    "    else:\n",
    "        # Cas 2 : clé dans dict2 mais pas dans dict1\n",
    "        nb_cas2[key] = value\n",
    "\n"
   ]
  }
 ],
 "metadata": {
  "kernelspec": {
   "display_name": "Python 3",
   "language": "python",
   "name": "python3"
  },
  "language_info": {
   "codemirror_mode": {
    "name": "ipython",
    "version": 3
   },
   "file_extension": ".py",
   "mimetype": "text/x-python",
   "name": "python",
   "nbconvert_exporter": "python",
   "pygments_lexer": "ipython3",
   "version": "3.10.0"
  }
 },
 "nbformat": 4,
 "nbformat_minor": 2
}
