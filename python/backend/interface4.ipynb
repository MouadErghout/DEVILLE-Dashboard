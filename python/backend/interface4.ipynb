{
 "cells": [
  {
   "cell_type": "code",
   "execution_count": 20,
   "metadata": {},
   "outputs": [],
   "source": [
    "import pandas as pd\n",
    "import numpy\n",
    "import select_file\n",
    "import clean_data\n",
    "import result"
   ]
  },
  {
   "cell_type": "code",
   "execution_count": 32,
   "metadata": {},
   "outputs": [
    {
     "name": "stderr",
     "output_type": "stream",
     "text": [
      "/Library/Frameworks/Python.framework/Versions/3.10/lib/python3.10/site-packages/openpyxl/worksheet/_reader.py:329: UserWarning: Conditional Formatting extension is not supported and will be removed\n",
      "  warn(msg)\n"
     ]
    },
    {
     "name": "stdout",
     "output_type": "stream",
     "text": [
      "Cas 1: {298: 401.0, 304: 402.0, 306: 402.0, 308: 403.0, 326: 405.0, 358: 502.0, 390: 515.0, 392: 515.0, 398: 602.0, 402: 604.0, 406: 606.0, 426: 614.0, 430: 615.0, 434: 616.0, 510: 807.0, 528: 810.0}\n",
      "Cas 2: {44: 107.0, 46: 107.0, 186: 218.0, 188: 218.0, 248: 305.0, 254: 306.0, 256: 306.0, 260: 306.0, 262: 306.0, 264: 306.0, 270: 308.0, 294: 308.0, 300: 401.0, 322: 404.0, 324: 404.0, 338: 408.0, 340: 408.0, 350: 501.0, 352: 501.0, 374: 508.0, 386: 514.0, 388: 514.0, 400: 603.0, 408: 606.0, 414: 609.0, 420: 611.0, 428: 614.0, 450: 702.0, 452: 702.0, 462: 702.0, 466: 702.0, 470: 702.0, 480: 703.0, 486: 705.0, 490: 802.0, 496: 804.0, 502: 805.0, 506: 806.0, 518: 809.0, 520: 809.0, 532: 811.0, 554: 932.0, 580: 951.0, 582: 951.0, 612: 985.0}\n",
      "Cas 3: {34: 105.0, 68: 110.0, 124: 204.0, 144: 212.0, 166: 217.0, 172: 217.0, 210: 223.0, 252: 305.0, 268: 306.0, 272: 308.0, 274: 308.0, 276: 308.0, 280: 308.0, 284: 308.0, 288: 308.0, 292: 308.0, 296: 308.0, 310: 402.0, 312: 403.0, 316: 404.0, 328: 404.0, 330: 405.0, 346: 408.0, 348: 408.0, 356: 501.0, 362: 502.0, 366: 505.0, 378: 508.0, 396: 515.0, 404: 603.0, 410: 606.0, 418: 609.0, 424: 611.0, 432: 614.0, 442: 616.0, 446: 617.0, 454: 702.0, 456: 702.0, 460: 702.0, 464: 702.0, 468: 702.0, 472: 702.0, 474: 703.0, 482: 703.0, 488: 705.0, 498: 804.0, 500: 804.0, 514: 807.0, 526: 810.0, 542: 920.0, 550: 932.0, 552: 940.0, 556: 951.0, 558: 951.0, 576: 951.0, 584: 961.0, 586: 961.0, 590: 962.0, 608: 985.0}\n",
      "120\n",
      "144\n",
      "130\n"
     ]
    },
    {
     "name": "stderr",
     "output_type": "stream",
     "text": [
      "/Library/Frameworks/Python.framework/Versions/3.10/lib/python3.10/site-packages/openpyxl/worksheet/_reader.py:329: UserWarning: Conditional Formatting extension is not supported and will be removed\n",
      "  warn(msg)\n"
     ]
    }
   ],
   "source": [
    "paths = [\"./fot10_copie.xlsx\",\"./fot11_copie.xlsx\"]\n",
    "\n",
    "# La on veut comparer le rapport 11 au rapport 10. On a 3 cas : \n",
    "# cas 1 : fot10 conformes fot11 non conformes\n",
    "# cas 2 : fot10 non conforme fot11 non conforme\n",
    "# cas 3 : fot10 non conforme fot11 conforme\n",
    "# Si on récupère liste des non conformes du 11. On a par exemple \n",
    "# fot11 = [19,101,104,108,112,200,391] On recupère la liste des non conformes du 10 On a par exemple\n",
    "# fot10 = [19,65,104,108,150,200,391,450]\n",
    "# pour chaque valeur de fot10 on regarde toute la liste de fot11. \n",
    "#           S'il est dedans : cas2 ici --> 19, 104, 200, 391\n",
    "#           Elseif n'est pas dedans : cas 3 ici --> 65, 150, 450\n",
    "#           le reste de fot11 : cas 1 ici --> 101, 112\n",
    "\n",
    "\n",
    "liste_dic = []\n",
    "for p in paths:\n",
    "    cotes_n = {}\n",
    "    df = select_file.select_file(p)\n",
    "    dc = clean_data.clean_data(df)\n",
    "    ds = result.filter_conformity(dc)\n",
    "    df_filtered = ds[1][ds[1]['N° Cote'] > 10]\n",
    "    for index, row in df_filtered.iterrows():\n",
    "        cotes_n[index] = row['N° Cote'] \n",
    "    liste_dic.append(cotes_n)\n",
    "\n",
    "nb_cas1 = 0\n",
    "nb_cas2 = 0\n",
    "nb_cas3 = 0\n",
    "for key, value in liste_dic[1].items():\n",
    "        if key in liste_dic[0] and liste_dic[0][key] == value: # cas 2, presente dans fot10 et fot11\n",
    "            #print(f\"La paire clé:valeur {key}:{value} est présente dans les deux dictionnaires.\")\n",
    "            nb_cas2 = nb_cas2 + 1\n",
    "        else: # cas 3, presente dans le fot10 mais pas fot11 donc devenu conforme\n",
    "            #print(f\"La paire clé:valeur {key}:{value} n'est pas présente dans le deuxième dictionnaire.\")\n",
    "            nb_cas3 = nb_cas3 + 1\n",
    "else:\n",
    "    #print(\"La liste ne contient pas deux dictionnaires.\")\n",
    "    nb_cas1 = nb_cas1 + 1\n",
    "\n",
    "nb_cas1 = {}\n",
    "nb_cas2 = {}\n",
    "nb_cas3 = {}\n",
    "\n",
    "dict1 = liste_dic[0]\n",
    "dict2 = liste_dic[1]\n",
    "print(dict1)\n",
    "print(dict2)\n",
    "# Vérifier chaque clé dans dict1\n",
    "for key, value in dict1.items():\n",
    "    if key not in dict2:\n",
    "        nb_cas3[key] = value\n",
    "\n",
    "# Vérifier chaque clé dans dict2\n",
    "for key, value in dict2.items():\n",
    "    if key in dict1:\n",
    "        # Vérification pour le cas 1\n",
    "        if dict1[key] != value:\n",
    "            nb_cas1[key] = value\n",
    "    else:\n",
    "        # Cas 2 : clé dans dict2 mais pas dans dict1\n",
    "        nb_cas2[key] = value\n",
    "\n"
   ]
  }
 ],
 "metadata": {
  "kernelspec": {
   "display_name": "Python 3",
   "language": "python",
   "name": "python3"
  },
  "language_info": {
   "codemirror_mode": {
    "name": "ipython",
    "version": 3
   },
   "file_extension": ".py",
   "mimetype": "text/x-python",
   "name": "python",
   "nbconvert_exporter": "python",
   "pygments_lexer": "ipython3",
   "version": "3.10.0"
  }
 },
 "nbformat": 4,
 "nbformat_minor": 2
}
